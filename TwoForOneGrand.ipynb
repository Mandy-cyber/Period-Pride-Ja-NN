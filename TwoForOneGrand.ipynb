{
  "nbformat": 4,
  "nbformat_minor": 0,
  "metadata": {
    "colab": {
      "name": "TwoForOneGrand.ipynb",
      "provenance": [],
      "collapsed_sections": [],
      "include_colab_link": true
    },
    "kernelspec": {
      "name": "python3",
      "display_name": "Python 3"
    },
    "language_info": {
      "name": "python"
    }
  },
  "cells": [
    {
      "cell_type": "markdown",
      "metadata": {
        "id": "view-in-github",
        "colab_type": "text"
      },
      "source": [
        "<a href=\"https://colab.research.google.com/github/Mandy-cyber/Period-Pride-Ja-NN/blob/main/TwoForOneGrand.ipynb\" target=\"_parent\"><img src=\"https://colab.research.google.com/assets/colab-badge.svg\" alt=\"Open In Colab\"/></a>"
      ]
    },
    {
      "cell_type": "code",
      "metadata": {
        "id": "hRuBNJySnZoC"
      },
      "source": [
        "# This is to download the dataset files from google drive - only need to do this when runtime session is over\n",
        "!wget -q https://drive.google.com/uc?id=1SxawUdXzsQHYxavMedDln8HY2tPMI3vt&export=download\n",
        "!wget -q https://drive.google.com/uc?id=13Qe4fGKUvCdcqpoJhb2Zq5o3Is1HwhY5&export=download"
      ],
      "execution_count": null,
      "outputs": []
    },
    {
      "cell_type": "code",
      "metadata": {
        "id": "mPjaPJK9Bv-w"
      },
      "source": [
        "import pandas as pd\n",
        "import string\n",
        "import re\n",
        "import nltk\n",
        "import numpy as np\n",
        "import matplotlib.pyplot as plt\n",
        "from sklearn.model_selection import train_test_split\n",
        "import tensorflow as tf\n",
        "from tensorflow.keras.layers import Embedding, Dense, LSTM, SpatialDropout1D\n",
        "from tensorflow.keras.models import Sequential\n",
        "from tensorflow.keras.preprocessing.text import Tokenizer\n",
        "from tensorflow.keras.preprocessing.sequence import pad_sequences\n",
        "from tensorflow import keras\n",
        "from sklearn import metrics\n",
        "import time\n",
        "nltk.download('stopwords')\n",
        "nltk.download('wordnet')"
      ],
      "execution_count": null,
      "outputs": []
    },
    {
      "cell_type": "markdown",
      "metadata": {
        "id": "h2B97PbbDUgs"
      },
      "source": [
        "## **LOADING & PRE-PROCESSING DATA**\n",
        "\n",
        "\n"
      ]
    },
    {
      "cell_type": "code",
      "metadata": {
        "id": "b8zd-LxvDd9c"
      },
      "source": [
        "#LOADING DATASETS\n",
        "# N.B - Cannot merge datasets since their different categories are augmented differently and it wouldn't all add up properly\n",
        "df_sentiment = pd.read_csv('uc?id=13Qe4fGKUvCdcqpoJhb2Zq5o3Is1HwhY5') \n",
        "df_category = pd.read_csv('fullCategoryAugDataset.csv') #uc?id=1SxawUdXzsQHYxavMedDln8HY2tPMI3vt"
      ],
      "execution_count": null,
      "outputs": []
    },
    {
      "cell_type": "code",
      "metadata": {
        "colab": {
          "base_uri": "https://localhost:8080/",
          "height": 653
        },
        "id": "KJ-xCwuctl2S",
        "outputId": "acda1553-7367-4644-e76e-5ad981139771"
      },
      "source": [
        "#VISUALIZING DATA (can be commented out or cell not run)\n",
        "#We do this to tell how even (or not even) the data in the different categories are\n",
        "fig = plt.figure() \n",
        "df_sentiment.groupby('emotion').headingText.count().plot.bar(ylim=0)\n",
        "plt.show()\n",
        "\n",
        "fig = plt.figure(figsize=(9,6))\n",
        "df_category.groupby('gen. category').headingText.count().plot.bar(ylim=0)\n",
        "plt.show()"
      ],
      "execution_count": null,
      "outputs": [
        {
          "output_type": "display_data",
          "data": {
            "image/png": "[encoded data removed]",
            "text/plain": [
              "<Figure size 432x288 with 1 Axes>"
            ]
          },
          "metadata": {
            "needs_background": "light"
          }
        },
        {
          "output_type": "display_data",
          "data": {
            "image/png": "[encoded data removed]",
            "text/plain": [
              "<Figure size 648x432 with 1 Axes>"
            ]
          },
          "metadata": {
            "needs_background": "light"
          }
        }
      ]
    },
    {
      "cell_type": "code",
      "metadata": {
        "id": "EUlC4EKCtfCn"
      },
      "source": [
        "#PRE-PROCESSING FUCNTIONS\n",
        "# Needed to make text more easily 'digestible' by the system\n",
        "stopWords = nltk.corpus.stopwords.words('english') #establishing the stopwords corpus (collection of words)\n",
        "wn = nltk.WordNetLemmatizer() #using lemmatizer instead of stemming because lemmatizer = more accurate (only downfall is speed)\n",
        "def clean_up(text):\n",
        "    noPunctText = \"\".join([c for c in str(text) if c not in string.punctuation]) #removing punctuation\n",
        "    tokens = re.split('\\W+', str(noPunctText)) #Use the punctuation-free text to split into separate words (tokens)\n",
        "    noStopWords = [word for word in tokens if word not in stopWords] #remove stop words e.g 'and'\n",
        "    text_nsw = [each_string.lower() for each_string in noStopWords] #make all the words lowercase\n",
        "    lem_text = [wn.lemmatize(word) for word in text_nsw] #lemmatize the words (i.e bring the words back to their roots)\n",
        "    return lem_text"
      ],
      "execution_count": null,
      "outputs": []
    },
    {
      "cell_type": "code",
      "metadata": {
        "id": "44ly37uoDzy9"
      },
      "source": [
        "#APPLYING PRE-PROCESSING FUNCTION TO THE RELEVANT COLUMNS\n",
        "df_sentiment['headingTextClean'] = df_sentiment['headingText'].apply(clean_up) #applying function\n",
        "dfSenNew = df_sentiment[['headingTextClean', 'emotion']] #Creating a new dataframe with only the 2 columns we need\n",
        "\n",
        "# Repeat same process as above but with the second dataset\n",
        "df_category['headingTextClean'] = df_category['headingText'].apply(clean_up)\n",
        "dfCatNew = df_category[['headingTextClean', 'gen. category']]\n",
        "# dfNew.head()\n",
        "\n",
        "#TOKENIZING THE TEXTS (splitting into individual words/tokens)\n",
        "tk = Tokenizer()\n",
        "tk.fit_on_texts(dfSenNew['headingTextClean'].values)\n",
        "tk.fit_on_texts(dfCatNew['headingTextClean'].values)"
      ],
      "execution_count": null,
      "outputs": []
    },
    {
      "cell_type": "markdown",
      "metadata": {
        "id": "WpRAuq_RDNX0"
      },
      "source": [
        "## **CREATING THE MODEL**\n",
        "\n",
        "> #### *Splitting into training & testing, fitting model, and getting the evaluation*"
      ]
    },
    {
      "cell_type": "code",
      "metadata": {
        "id": "Y6IhdHBCFiwo"
      },
      "source": [
        "#Using Sequential because our models will each only be fitted with a plain stack of layers (i.e one input only maps to one output)\n",
        "model1 = Sequential()\n",
        "model2 = Sequential()\n",
        "labels1 = ['p', 'n'] #for emotion category\n",
        "labels2 = ['gp', 'pg', 'mp', 'bc', 'mh', 'cp', 'sx'] #for general category\n",
        "\n",
        "# [dfSenNew, 'emotion', 2, model1, labels1], \n",
        "infoSets = [[dfCatNew, 'gen. category', 7, model2, labels2]] #to be used in for loop\n",
        "\n",
        "for z in infoSets:\n",
        "  #IDENTIFYING THE FEATURES AND THE LABELS\n",
        "  X = tk.texts_to_sequences(z[0]['headingTextClean'].values) #converting the features (inputs) to a numpy array\n",
        "  X = pad_sequences(X) #pads sequences to the same length to avoid mismatch dimension error\n",
        "  y = pd.get_dummies(z[0][z[1]]).values #giving the labels (outputs) numerical values so the system can understand it\n",
        "\n",
        "  #--------------------------------------------------------------------------------------------------------------------------#\n",
        "  #SPLITTING INTO TESTING & TRAINING DATA\n",
        "  X_train, X_test, y_train, y_test = train_test_split(X,y, test_size = 0.20, random_state = 5) #Allocating 20% of data to testing, and shuffling order 5 times\n",
        "  # print(X_train.shape, y_train.shape)\n",
        "  # print(X_test.shape, y_test.shape)\n",
        "  # ^^just making sure the dimensions were matching up\n",
        "\n",
        "  #--------------------------------------------------------------------------------------------------------------------------#\n",
        "  #VARS THAT ARE REQUIREMENTS FOR THE EMBEDDING LAYER\n",
        "  MAX_NB_WORDS = 4000 #this variable is not really necessary for our situation but since the model needs it we just assigned a high number\n",
        "  EMBEDDING_DIM = 128 #this value can also be changed, we just used 128 as a default value telling the model what size the vector dimensions should be\n",
        "\n",
        "  #--------------------------------------------------------------------------------------------------------------------------#\n",
        "  #MODEL CONFIGURATION\n",
        "  #Using an embedding input layer so words with the same meanings are given similar representations, and the vector dimensions are smaller\n",
        "  z[3].add(Embedding(MAX_NB_WORDS, EMBEDDING_DIM, input_length=X.shape[1])) #input layer\n",
        "  z[3].add(SpatialDropout1D(0.2))#We use dropout to prevent overfitting (modelling the training data too well)\n",
        "  z[3].add(LSTM(100, dropout=0.2, recurrent_dropout=0.2)) \n",
        "  z[3].add(Dense(z[2], activation='softmax')) #Softmax is the type of activation function\n",
        "  z[3].compile(loss='categorical_crossentropy', optimizer='adam', metrics=['accuracy']) #identify loss function and the optimizer. want accuracy to be the metric evaluated\n",
        "  # We use categorical_crossentropy because for both datasets as there are two or more possible outputs\n",
        "  # Use adam function\n",
        "\n",
        "  #--------------------------------------------------------------------------------------------------------------------------#\n",
        "  #HYPER-PARAMTERS\n",
        "  epochs = 5 \n",
        "  batch_size = 64 #default batch_size\n",
        "  history = z[3].fit(X_train, y_train, epochs=epochs, batch_size=batch_size,validation_split=0.1) #fitting the model with all its yummy parameters\n",
        "  \n",
        "  #--------------------------------------------------------------------------------------------------------------------------#\n",
        "  #EVALUATION & ACCURACY\n",
        "  accr = z[3].evaluate(X_test,y_test) #evaluating the model by using the testing data \n",
        "  print('Test set\\n  Loss: {:0.3f}\\n  Accuracy: {:0.3f}'.format(accr[0],accr[1])) #printing the loss and accuracy values for the testing data (to compare with training data)"
      ],
      "execution_count": null,
      "outputs": []
    },
    {
      "cell_type": "markdown",
      "metadata": {
        "id": "eefCO3LuKX3a"
      },
      "source": [
        "## **USER INPUT**\n",
        "\n",
        "> #### *Testing the model with user input*\n"
      ]
    },
    {
      "cell_type": "code",
      "metadata": {
        "id": "BJeLCVn3Kdko",
        "colab": {
          "base_uri": "https://localhost:8080/"
        },
        "outputId": "7567bb91-1a43-4aed-b3e8-d59ee221f60a"
      },
      "source": [
        "#MAKE PREDICTIONS FROM FIXED OR USER INPUT\n",
        "new_question = [\"i am stressed out, because this is not working\"]\n",
        "seq = tk.texts_to_sequences(new_question)\n",
        "paddedQuestion = pad_sequences(seq)\n",
        "for z in infoSets:\n",
        "  pred = z[3].predict(paddedQuestion)\n",
        "  labels = z[4]\n",
        "  # print(pred)\n",
        "  print(labels[np.argmax(pred)])"
      ],
      "execution_count": null,
      "outputs": [
        {
          "output_type": "stream",
          "name": "stdout",
          "text": [
            "mp\n"
          ]
        }
      ]
    }
  ]
}