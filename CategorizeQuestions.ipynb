{
  "nbformat": 4,
  "nbformat_minor": 0,
  "metadata": {
    "colab": {
      "name": "CategorizeQuestions.ipynb",
      "provenance": [],
      "collapsed_sections": [],
      "authorship_tag": "ABX9TyN2X62sCCuNPpekTCR5KrY+",
      "include_colab_link": true
    },
    "kernelspec": {
      "name": "python3",
      "display_name": "Python 3"
    },
    "language_info": {
      "name": "python"
    }
  },
  "cells": [
    {
      "cell_type": "markdown",
      "metadata": {
        "id": "view-in-github",
        "colab_type": "text"
      },
      "source": [
        "<a href=\"https://colab.research.google.com/github/Mandy-cyber/Period-Pride-Ja-NN/blob/main/CategorizeQuestions.ipynb\" target=\"_parent\"><img src=\"https://colab.research.google.com/assets/colab-badge.svg\" alt=\"Open In Colab\"/></a>"
      ]
    },
    {
      "cell_type": "code",
      "metadata": {
        "id": "dnenUeEp5WS5"
      },
      "source": [
        "!wget -q https://drive.google.com/uc?id=1N2SfnsjdRCw5yXx2DfgfA2ydiltFAgWS&export=download"
      ],
      "execution_count": null,
      "outputs": []
    },
    {
      "cell_type": "code",
      "metadata": {
        "id": "HbKo9VyL2Pqb"
      },
      "source": [
        "import pandas as pd\n",
        "import string\n",
        "import re\n",
        "import nltk\n",
        "import numpy as np\n",
        "import matplotlib.pyplot as plt\n",
        "from sklearn.model_selection import train_test_split\n",
        "import tensorflow as tf\n",
        "from tensorflow.keras.layers import Embedding, Dense, LSTM, SpatialDropout1D\n",
        "from tensorflow.keras.models import Sequential\n",
        "from tensorflow.keras.preprocessing.text import Tokenizer\n",
        "from tensorflow.keras.preprocessing.sequence import pad_sequences\n",
        "from tensorflow import keras\n",
        "from sklearn import metrics\n",
        "import time\n",
        "from tensorflow.keras.initializers import Constant\n",
        "from tensorflow.keras.layers import Embedding\n",
        "\n",
        "nltk.download('stopwords')\n",
        "nltk.download('wordnet')"
      ],
      "execution_count": null,
      "outputs": []
    },
    {
      "cell_type": "code",
      "metadata": {
        "id": "6SforMoy2Ra5"
      },
      "source": [
        "#LOADING DATASETS\n",
        "df_category = pd.read_csv(\"uc?id=1N2SfnsjdRCw5yXx2DfgfA2ydiltFAgWS\")"
      ],
      "execution_count": null,
      "outputs": []
    },
    {
      "cell_type": "code",
      "metadata": {
        "id": "XaKh-Qhp2cPQ",
        "colab": {
          "base_uri": "https://localhost:8080/",
          "height": 340
        },
        "outputId": "f61f484d-ef77-42fb-bd03-61631208d236"
      },
      "source": [
        "#VISUALIZING DATA (can be commented out or cell not run)\n",
        "#We do this to tell how even (or not even) the data in the different categories are\n",
        "fig = plt.figure(figsize=(9,5))\n",
        "df_category.groupby('gen. category').headingText.count().plot.bar(ylim=0)\n",
        "plt.show()"
      ],
      "execution_count": null,
      "outputs": [
        {
          "output_type": "display_data",
          "data": {
            "image/png": "[encoded data removed]",
            "text/plain": [
              "<Figure size 648x360 with 1 Axes>"
            ]
          },
          "metadata": {
            "needs_background": "light"
          }
        }
      ]
    },
    {
      "cell_type": "code",
      "metadata": {
        "id": "lQms5cH48vAU"
      },
      "source": [
        "#PRE-PROCESSING FUCNTIONS\n",
        "# Needed to make text more easily 'digestible' by the system\n",
        "stopWords = nltk.corpus.stopwords.words('english') #establishing the stopwords corpus (collection of words)\n",
        "wn = nltk.WordNetLemmatizer() #using lemmatizer instead of stemming because lemmatizer = more accurate (only downfall is speed)\n",
        "def clean_up(text):\n",
        "    noPunctText = \"\".join([c for c in str(text) if c not in string.punctuation]) #removing punctuation\n",
        "    tokens = re.split('\\W+', str(noPunctText)) #Use the punctuation-free text to split into separate words (tokens)\n",
        "    noStopWords = [word for word in tokens if word not in stopWords] #remove stop words e.g 'and'\n",
        "    text_nsw = [each_string.lower() for each_string in noStopWords] #make all the words lowercase\n",
        "    lem_text = [wn.lemmatize(word) for word in text_nsw] #lemmatize the words (i.e bring the words back to their roots)\n",
        "    return lem_text"
      ],
      "execution_count": null,
      "outputs": []
    },
    {
      "cell_type": "code",
      "metadata": {
        "id": "R7Tft60O8wt3"
      },
      "source": [
        "#APPLYING PRE-PROCESSING FUNCTION TO THE RELEVANT COLUMNS\n",
        "df_category['headingTextClean'] = df_category['headingText'].apply(clean_up) #apply function\n",
        "dfCatNew = df_category[['headingTextClean', 'gen. category']] #Creating a new dataframe with only the 2 columns we need\n",
        "# print(dfCatNew.head())\n",
        "\n",
        "#TOKENIZING THE TEXTS (splitting into individual words/tokens)\n",
        "# num_words = 1000\n",
        "# oov_token = '<UNK>'\n",
        "# pad_type = 'post'\n",
        "# trunc_type = 'post'\n",
        "maxlen = maxlen = max([len(x) for x in dfCatNew['headingTextClean'].values])\n",
        "\n",
        "\n",
        "# num_words=num_words, oov_token=oov_token\n",
        "tk = Tokenizer()\n",
        "tk.fit_on_texts(dfCatNew['headingTextClean'].values)"
      ],
      "execution_count": null,
      "outputs": []
    },
    {
      "cell_type": "code",
      "metadata": {
        "id": "sVa82izL9mAr"
      },
      "source": [
        "#IDENTIFYING THE FEATURES AND THE LABELS\n",
        "X = tk.texts_to_sequences(dfCatNew['headingTextClean'].values) #converting the features (inputs) to a numpy array\n",
        "# X = pad_sequences(X) #pads sequences to the same length to avoid mismatch dimension error\n",
        "X = pad_sequences(X, maxlen=maxlen)\n",
        "y = pd.get_dummies(dfCatNew['gen. category']).values #giving the labels (outputs) numerical values so the system can understand it\n",
        "\n",
        "#--------------------------------------------------------------------------------------------------------------------------#\n",
        "#SPLITTING INTO TESTING & TRAINING DATA\n",
        "X_train, X_test, y_train, y_test = train_test_split(X,y, test_size = 0.20, random_state = 5) #Allocating 20% of data to testing, and shuffling order 5 times\n",
        "# print(X_train.shape, y_train.shape)\n",
        "# print(X_test.shape, y_test.shape)\n",
        "# ^^just making sure the dimensions were matching up\n",
        "\n",
        "#--------------------------------------------------------------------------------------------------------------------------#\n",
        "#VARS THAT ARE REQUIREMENTS FOR THE EMBEDDING LAYER\n",
        "MAX_NB_WORDS = 4000 #this variable is not really necessary for our situation but since the model needs it we just assigned a high number\n",
        "EMBEDDING_DIM = 128   #this value can also be changed, we just used 128 as a default value telling the model what size the vector dimensions should be\n",
        "\n",
        "MAX_NUM_TOKENS = 5\n",
        "MAX_SEQUENCE_LENGTH = 10\n",
        "embedding_layer = Embedding(input_dim=MAX_NUM_TOKENS,\n",
        "                            output_dim=EMBEDDING_DIM,\n",
        "                            embeddings_initializer=Constant(128),\n",
        "                            input_length=MAX_SEQUENCE_LENGTH,mask_zero=True,trainable=False)\n",
        "#--------------------------------------------------------------------------------------------------------------------------#\n",
        "#MODEL CONFIGURATION\n",
        "def create_model():\n",
        "  model = Sequential() #Using Sequential because our models will each only be fitted with a plain stack of layers (i.e one input only maps to one output)\n",
        "  #Using an embedding input layer so words with the same meanings are given similar representations, and the vector dimensions are smaller\n",
        "  model.add(Embedding(MAX_NB_WORDS, EMBEDDING_DIM, input_length=X.shape[1])) #input layer\n",
        "  model.add(SpatialDropout1D(0.2))#We use dropout to prevent overfitting (modelling the training data too well)\n",
        "  model.add(LSTM(100, dropout=0.2, recurrent_dropout=0.2)) \n",
        "  model.add(Dense(6, activation='softmax')) #Softmax is the type of activation function\n",
        "  model.compile(loss='categorical_crossentropy', optimizer='adam', metrics=['accuracy'])# We use categorical_crossentropy because for both datasets as there are two or more possible outputs; Adam optimizer function is the default optimizer used\n",
        "  return model\n",
        "\n",
        "\n",
        "model = create_model()\n",
        "#HYPER-PARAMTERS\n",
        "epochs = 5 #gave the closest in value for training and testing data\n",
        "batch_size = 64 #default batch_size\n",
        "model.fit(X_train, y_train, epochs=epochs, batch_size=batch_size,validation_split=0.1) #fitting the model with all its yummy parameters\n",
        "\n",
        "#--------------------------------------------------------------------------------------------------------------------------#\n",
        "# #EVALUATION & ACCURACY\n",
        "accr = model.evaluate(X_test,y_test) #evaluating the model by using the testing data \n",
        "print('Test set\\n  Loss: {:0.3f}\\n  Accuracy: {:0.3f}'.format(accr[0],accr[1])) #printing the loss and accuracy values for the testing data (to compare with training data)\n",
        "\n",
        "model.save('categoryModel.h5')\n",
        "# model.summary()"
      ],
      "execution_count": null,
      "outputs": []
    },
    {
      "cell_type": "code",
      "metadata": {
        "id": "GEJEWQHlzluz"
      },
      "source": [
        "!wget -q https://drive.google.com/uc?id=1So1eQQjY0dgD684_YK_Bi-zeGFJrCjDg&export=download #for gp model\n",
        "!wget -q https://drive.google.com/uc?id=1eMzdX56TEMe-OE2o3vB95q8PBsYR5N3C&export=download #for mh model\n",
        "!wget -q https://drive.google.com/uc?id=1QNCllrqgtWt2FTuXjtI_p13rb24bWTmA&export=download #for mp model\n",
        "!wget -q https://drive.google.com/uc?id=1IYk6cUGNlCSxZ11yv3H1QZJhRq-9l2wl&export=download #for pg model\n",
        "!wget -q https://drive.google.com/uc?id=1ssfB6OK0OK6kUUhyhv6uqa7q0LYcKD9t&export=download #for sx model\n",
        "!wget -q https://drive.google.com/uc?id=149lFx__zBTHLEZBSjjeyDfwePD7n61vL&export=download #for cp model"
      ],
      "execution_count": null,
      "outputs": []
    },
    {
      "cell_type": "code",
      "metadata": {
        "id": "ieELR3BbFcuV"
      },
      "source": [
        "labels2 = ['gp', 'pg', 'mp', 'mh', 'cp', 'sx'] #for general category\n",
        "new_question = [\"i am depressed by my menstrual cycle\"]\n",
        "seq = tk.texts_to_sequences(new_question)\n",
        "paddedQuestion = pad_sequences(seq)\n",
        "pred = model.predict(paddedQuestion)\n",
        "labels = labels2\n",
        "genCategory = labels[np.argmax(pred)]\n",
        "print(genCategory)\n",
        "\n",
        "if genCategory == \"gp\":\n",
        "  subCategoryList = ['cyclelengths', 'discharge', 'generalperiod', 'irregularperiods']\n",
        "  model = tf.keras.models.load_model(\"uc?id=1So1eQQjY0dgD684_YK_Bi-zeGFJrCjDg\")\n",
        "  pred = model.predict(paddedQuestion)\n",
        "  subCategory = subCategoryList[np.argmax(pred)]\n",
        "  print(subCategory) \n",
        "\n",
        "elif genCategory == \"pg\":\n",
        "  subCategoryList = ['cyclelengths', 'discharge', 'generalperiod', 'irregularperiods']\n",
        "  model = tf.keras.models.load_model(\"uc?id=1IYk6cUGNlCSxZ11yv3H1QZJhRq-9l2wl\")\n",
        "  pred = model.predict(paddedQuestion)\n",
        "  subCategory = subCategoryList[np.argmax(pred)]\n",
        "  print(subCategory) \n",
        "\n",
        "elif genCategory == \"mp\":\n",
        "  subCategoryList = ['howtouse', 'symptoms']\n",
        "  model = tf.keras.models.load_model(\"uc?id=1QNCllrqgtWt2FTuXjtI_p13rb24bWTmA\")\n",
        "  pred = model.predict(paddedQuestion)\n",
        "  subCategory = subCategoryList[np.argmax(pred)]\n",
        "  print(subCategory) \n",
        "\n",
        "elif genCategory == \"mh\":\n",
        "  subCategoryList = ['gmentalhealth', 'howtomanage']\n",
        "  model = tf.keras.models.load_model(\"uc?id=1eMzdX56TEMe-OE2o3vB95q8PBsYR5N3C\")\n",
        "  pred = model.predict(paddedQuestion)\n",
        "  subCategory = subCategoryList[np.argmax(pred)]\n",
        "  print(subCategory) \n",
        "\n",
        "elif genCategory == \"cp\":\n",
        "  subCategoryList = ['iud', 'morningafterpill', 'birthcontrolpill', 'gcontra', 'condoms']\n",
        "  model = tf.keras.models.load_model(\"uc?id=149lFx__zBTHLEZBSjjeyDfwePD7n61vL\")\n",
        "  pred = model.predict(paddedQuestion)\n",
        "  subCategory = subCategoryList[np.argmax(pred)]\n",
        "  print(subCategory) \n",
        "\n",
        "else:\n",
        "  subCategoryList = ['basics', 'bleeding', 'orgasm', 'toysandmastandporn']\n",
        "  model = tf.keras.models.load_model(\"uc?id=1ssfB6OK0OK6kUUhyhv6uqa7q0LYcKD9t\")\n",
        "  pred = model.predict(paddedQuestion)\n",
        "  subCategory = subCategoryList[np.argmax(pred)]\n",
        "  print(subCategory) \n",
        "\n"
      ],
      "execution_count": null,
      "outputs": []
    }
  ]
}